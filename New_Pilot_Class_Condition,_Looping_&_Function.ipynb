{
  "nbformat": 4,
  "nbformat_minor": 0,
  "metadata": {
    "colab": {
      "provenance": [],
      "toc_visible": true
    },
    "kernelspec": {
      "name": "python3",
      "display_name": "Python 3"
    },
    "language_info": {
      "name": "python"
    }
  },
  "cells": [
    {
      "cell_type": "markdown",
      "source": [
        "#🎬 **Prolog**"
      ],
      "metadata": {
        "id": "yzN0UY5KXvcB"
      }
    },
    {
      "cell_type": "markdown",
      "source": [
        "# 🤹🏼‍♂️ **Condition Statement**\n",
        "\n",
        "*   Percabangan dalam Python memungkinkan program untuk membuat keputusan berdasarkan kondisi yang diberikan.\n",
        "*   Kondisi yang dieksekusi adalah sebuah pernyataan boolean (pernyataan yang bernilai benar \\[True\\] atau salah \\[False\\])\n",
        "*   Untuk membuat sebuah pernyataan boolean, pada umumnya akan digunakan operator pembanding<br><br>\n",
        "\n",
        "<p align=\"center\">\n",
        "<img src=\"https://codeforwin.org/wp-content/uploads/2017/08/if-else-statement-flow-chart.png\" width=\"400\" height=\"310\" alt=\"alternatetext\">\n",
        "<p align=\"center\"><b>Gambar 1. Konsep Percabangan</b></p></p><br>\n",
        "\n",
        "Note : <i>Suatu kondisi / statement akan diperiksa terlebih dahulu. Jika memenuhi maka sebuah pernyataan akan dieksekusi, jika tidak maka akan diperiksa kondisi setelahnya dan seterusnya.</i>"
      ],
      "metadata": {
        "id": "OeJlLtfcigWY"
      }
    },
    {
      "cell_type": "markdown",
      "source": [
        "## **1. Operator Pembanding**\n",
        "\n",
        "*   Operator pembanding digunakan untuk membandingkan antara 2 nilai untuk menghasilkan nilai logika (<i>logical value</i>)\n",
        "*   Nilai yang ingin dibandingkan harus dari tipe data yang sejenis\n",
        "<br><br>\n",
        "<p align=\"center\">\n",
        "<img src=\"https://www.devopsschool.com/blog/wp-content/uploads/2020/08/relational-operator-in-python.png\" width=\"500\" height=\"220\" alt=\"alternatetext\">\n",
        "<p align=\"center\"><b>Gambar 2. Operator Pembanding</b></p></p><br>\n",
        "\n",
        "\n",
        "Note : <i>Simbol '=' (sama dengan) digunakan untuk assignment sebuah nilai pada variabel sedangkan simbol '==' digunakan untuk membandingkan atau memeriksa apakah dua variabel mempunyai nilai yang sama</i>"
      ],
      "metadata": {
        "id": "tPMsDqIzpA7f"
      }
    },
    {
      "cell_type": "markdown",
      "source": [
        "### 👨‍💻 Task 1 - A\n",
        "\n",
        "Buatlah dua variabel misalkan x dan y lalu assign variabel x dengan nilai 3 dan variabel y dengan nilai -4. Tebak apa output dari perintah dibawah ini jika dieksekusi?\n",
        "\n",
        "```\n",
        "print(x >= y)\n",
        "```\n",
        "\n"
      ],
      "metadata": {
        "id": "FIS5EUfK5Cmq"
      }
    },
    {
      "cell_type": "code",
      "execution_count": null,
      "metadata": {
        "colab": {
          "base_uri": "https://localhost:8080/"
        },
        "id": "TtASXUkPfu8A",
        "outputId": "90bc0a38-8608-49ad-fb79-5a14391746a8"
      },
      "outputs": [
        {
          "output_type": "stream",
          "name": "stdout",
          "text": [
            "True\n"
          ]
        }
      ],
      "source": [
        "# Write your code below here & exec!\n",
        "x = 3\n",
        "y = -4\n",
        "\n",
        "print(x >= y)"
      ]
    },
    {
      "cell_type": "markdown",
      "source": [
        "### 👨‍💻 Task 1 - B\n",
        "\n",
        "Jika benar <u>nilai</u> bertipe data karakter / string yang disimpan pada variabel bersifat <i>Case Sensitive</i> (peka terhadap besar kecilnya huruf), coba periksa kebenarannya (buktikan)!\n"
      ],
      "metadata": {
        "id": "A3W24dWW6Nrb"
      }
    },
    {
      "cell_type": "code",
      "source": [
        "# Write your code below here & exec!\n",
        "x = 'abm'\n",
        "y = 'ABM'\n",
        "\n",
        "print(x==y)"
      ],
      "metadata": {
        "id": "UpDfSBWb68LO",
        "colab": {
          "base_uri": "https://localhost:8080/"
        },
        "outputId": "d4e86c4f-2020-4e4a-b8e9-0e28af9138de"
      },
      "execution_count": null,
      "outputs": [
        {
          "output_type": "stream",
          "name": "stdout",
          "text": [
            "False\n"
          ]
        }
      ]
    },
    {
      "cell_type": "markdown",
      "source": [
        "### 👨‍💻 Task 1 - C\n",
        "\n",
        "Eksekusi kode berikut\n",
        "\n",
        "```\n",
        "a = 3.0000000000000000001\n",
        "b = 3\n",
        "c = (a == b)\n",
        "```\n",
        "\n",
        "Kira - kira apa yang akan muncul saat `print(c)` dieksekusi setelahnya? Berikan alasanmu !\n",
        "\n",
        "\n"
      ],
      "metadata": {
        "id": "rglrxAbB69VQ"
      }
    },
    {
      "cell_type": "code",
      "source": [
        "# Write your code below here & exec! (19)\n",
        "a = 3.0000000000000000001\n",
        "b = 3\n",
        "c = (a == b)\n",
        "\n",
        "print(c)\n",
        "\n",
        "x=3.001\n",
        "y=3\n",
        "z=(x==y)\n",
        "print(z)"
      ],
      "metadata": {
        "id": "jLi1Kfsu7Su5",
        "colab": {
          "base_uri": "https://localhost:8080/"
        },
        "outputId": "5e8dcf15-d2f2-466c-fb8c-402ee8532080"
      },
      "execution_count": null,
      "outputs": [
        {
          "output_type": "stream",
          "name": "stdout",
          "text": [
            "True\n",
            "False\n"
          ]
        }
      ]
    },
    {
      "cell_type": "markdown",
      "source": [
        "#### ***Apakah jika jumlah nol dikecilkan hasilnya tetap sama?***"
      ],
      "metadata": {
        "id": "Nsl0NljeLBQe"
      }
    },
    {
      "cell_type": "code",
      "source": [
        "berbeda, hasilnya akan false. karena nilai x tidak mendekati nilai y"
      ],
      "metadata": {
        "id": "JNLU-k7mLOBE"
      },
      "execution_count": null,
      "outputs": []
    },
    {
      "cell_type": "markdown",
      "source": [
        "##🧩 **2. Operator Logika**\n",
        "\n",
        "*  Operator logika digunakan untuk mengkombinasi dan membandingkan 2 atau lebih pernyataan / kondisi boolean.<br><br>\n",
        "\n",
        "<p align=\"center\">\n",
        "<img src=\"https://qph.cf2.quoracdn.net/main-qimg-b21874c7e7bdbefd344ad820798e6ab1\" width=\"500\" height=\"180\" alt=\"alternatetext\">\n",
        "<p align=\"center\"><b>Gambar 3. Operator Logika</b></p></p>\n",
        "\n",
        "Dengan ketentuan :\n",
        "<ol>\n",
        "  <li>\n",
        "     Kondisi <b>and</b> akan bernilai True jika semua kondisi boolean bernilai benar. Jika hanya ada satu saja kondisi bernilai salah (<i>False condition</i>) maka akan dihasilkan nilai False\n",
        "  </li>\n",
        "  <li>\n",
        "     Kondisi <b>or</b> akan bernilai True jika minimal satu kondisi boolean bernilai benar. Jika semua kondisi bernilai salah, maka barulah kondisi or menghasilkan nilai False\n",
        "  </li>\n",
        "  <li>\n",
        "     Kondisi <b>not</b> akan menegasikan / membalik kondisi sebenarnya (True menjadi False atau sebaliknya)\n",
        "  </li>\n",
        "</ol>"
      ],
      "metadata": {
        "id": "jYdv8o_V7ree"
      }
    },
    {
      "cell_type": "markdown",
      "source": [
        "### 👨‍💻 Task 2 - A\n",
        "\n",
        "Untuk memasukan sebuah nilai anda dapat menggunakan fungsi `input('text')`. Misalkan hasil inputan user disimpan ke dalam sebuah variabel bernama `input_rataan_pengeluaran` kemudian periksa apakah rataan pengeluaran orang tersebut diantara IDR 4 s.d 7 juta? <br><br>\n",
        "\n",
        "\n",
        "*Perlu diperhatikan bahwa input pada Python selalu me-return **string** sehingga kadangkala perlu dilakukan konversi tipe data*"
      ],
      "metadata": {
        "id": "FxaBVCScCdQZ"
      }
    },
    {
      "cell_type": "code",
      "source": [
        "# Write your code below here & exec!\n",
        "input_rataan_pengeluaran = input('Masukan pengeluaran : ')\n",
        "\n",
        "# Konversi tipe data (str -> float)\n",
        "input_rataan_pengeluaran = float(input_rataan_pengeluaran)\n",
        "\n",
        "# Periksa kondisi\n",
        "check = input_rataan_pengeluaran>4000000 and input_rataan_pengeluaran<7000000\n",
        "\n",
        "# Tampilkan output\n",
        "print(f'Apakah pengeluaran diantara 4 sampai 7 juta? {check}')"
      ],
      "metadata": {
        "id": "09JA7EfOEaxb",
        "colab": {
          "base_uri": "https://localhost:8080/"
        },
        "outputId": "6970a322-598e-47a2-b53f-d707323a90a0"
      },
      "execution_count": null,
      "outputs": [
        {
          "output_type": "stream",
          "name": "stdout",
          "text": [
            "Masukan pengeluaran : 4500000\n",
            "Apakah pengeluaran diantara 4 sampai 7 juta? True\n"
          ]
        }
      ]
    },
    {
      "cell_type": "code",
      "source": [
        "# Write your code below here & exec!\n",
        "input_rataan_pengeluaran = input('Masukan pengeluaran : ')\n",
        "\n",
        "# Konversi tipe data (str -> float)\n",
        "input_rataan_pengeluaran = float(input_rataan_pengeluaran)\n",
        "\n",
        "# Periksa kondisi\n",
        "check = 4000000<input_rataan_pengeluaran<7000000\n",
        "# Tampilkan output\n",
        "print(f'Apakah pengeluaran diantara 4 sampai 7 juta? {check}')"
      ],
      "metadata": {
        "colab": {
          "base_uri": "https://localhost:8080/"
        },
        "id": "qIPon2RXmMO0",
        "outputId": "9340049f-be61-4627-f842-a7fc7217b734"
      },
      "execution_count": null,
      "outputs": [
        {
          "output_type": "stream",
          "name": "stdout",
          "text": [
            "Masukan pengeluaran : 5000000\n",
            "Apakah pengeluaran diantara 4 sampai 7 juta? True\n"
          ]
        }
      ]
    },
    {
      "cell_type": "markdown",
      "source": [
        "### 👨‍💻 Task 2 - B\n",
        "\n",
        "Bantu Sendja untuk memperbaiki sistem yang sedang ia buat, dimana asal penyebutan username sama dengan email yang ia daftarkan 'sendja@dqtech.com' maka variabel check akan bernilai True (mengabaikan besar kecilnya karakter)<br><br>\n",
        "\n",
        "*Saat ini check masih bernilai False (lihat prompt dibawah)*"
      ],
      "metadata": {
        "id": "HGjOv3DfEpVp"
      }
    },
    {
      "cell_type": "code",
      "source": [
        "# Write your code below here & exec!\n",
        "username = 'sEnDJa@DQteCH.CoM'\n",
        "email='sendja@dqtech.com'\n",
        "\n",
        "# Proses validasi\n",
        "check = username.casefold()==email.casefold()\n",
        "\n",
        "# Tampilkan hasilnya\n",
        "print(check)"
      ],
      "metadata": {
        "colab": {
          "base_uri": "https://localhost:8080/"
        },
        "id": "zM_4uqFSL528",
        "outputId": "688315ff-fca2-43cf-c4ea-aba1668f7d0c"
      },
      "execution_count": null,
      "outputs": [
        {
          "output_type": "stream",
          "name": "stdout",
          "text": [
            "True\n"
          ]
        }
      ]
    },
    {
      "cell_type": "markdown",
      "source": [
        "## 🎢 **3. Membership Operator**\n",
        "\n",
        "* Operator keanggotaan digunakan untuk menguji apakah urutan disajikan dalam suatu objek.\n",
        "* Gunakan perintah <code><b>in</b></code> untuk pengujian keanggotaan\n",
        "* Gunakan perintah <code><b>not in</b></code> untuk pengujian non - keanggotaan."
      ],
      "metadata": {
        "id": "e-HOgjTXRRfL"
      }
    },
    {
      "cell_type": "markdown",
      "source": [
        "### 👨‍💻 Task 3 - A\n",
        "\n",
        "Periksa apakah <b>'Finance'</b> terdapat pada list `department_name`?"
      ],
      "metadata": {
        "id": "72IfoQhQSNKM"
      }
    },
    {
      "cell_type": "code",
      "source": [
        "department_name = ['Sales & Marketing', 'Information & Technology', 'Human Resource', 'General Affairs', 'Finance', 'Coorporate Secretary', 'Research & Development']\n",
        "\n",
        "# Write your code below here & exec!\n",
        "check = 'Finance' in department_name\n",
        "\n",
        "# Tampilkan hasilnya\n",
        "print(check)"
      ],
      "metadata": {
        "id": "NcdiczKiR62N",
        "colab": {
          "base_uri": "https://localhost:8080/"
        },
        "outputId": "30b8243e-ac30-4678-da05-e0fe0e5c754c"
      },
      "execution_count": null,
      "outputs": [
        {
          "output_type": "stream",
          "name": "stdout",
          "text": [
            "True\n"
          ]
        }
      ]
    },
    {
      "cell_type": "code",
      "source": [
        "department_name = ['Sales & Marketing', 'Information & Technology', 'Human Resource', 'General Affairs', 'Finance', 'Coorporate Secretary', 'Research & Development']\n",
        "\n",
        "# Write your code below here & exec!\n",
        "check = (['Finance'] in department_name)\n",
        "\n",
        "print(check)"
      ],
      "metadata": {
        "colab": {
          "base_uri": "https://localhost:8080/"
        },
        "id": "JkBFgtrHuVAA",
        "outputId": "dea1f44c-9409-4ee0-b673-f228043cc9b7"
      },
      "execution_count": null,
      "outputs": [
        {
          "output_type": "stream",
          "name": "stdout",
          "text": [
            "False\n"
          ]
        }
      ]
    },
    {
      "cell_type": "code",
      "source": [
        "department_name = ['Sales & Marketing', 'Information & Technology', 'Human Resource', 'General Affairs', ['Finance'], 'Coorporate Secretary', 'Research & Development']\n",
        "\n",
        "# Write your code below here & exec!\n",
        "check = (['Finance'] in department_name)\n",
        "\n",
        "print(check)\n",
        "#ini artinya finance sebagai list"
      ],
      "metadata": {
        "colab": {
          "base_uri": "https://localhost:8080/"
        },
        "id": "0tbqObTTkSFZ",
        "outputId": "079fc5e3-5a59-4a99-f26a-64e26efbf9d9"
      },
      "execution_count": null,
      "outputs": [
        {
          "output_type": "stream",
          "name": "stdout",
          "text": [
            "True\n"
          ]
        }
      ]
    },
    {
      "cell_type": "markdown",
      "source": [
        "### 👨‍💻 Task 3 - B\n",
        "\n",
        "Sendja menuliskan sebuah kode untuk memeriksa apakah 123 termasuk anggota dari '123456'. Namun di dapati *error* saat dieksekusi. Bantu Sendja mendiagnosa mengapa hal ini terjadi dan coba lakukan *debug process* (perbaikan kode)"
      ],
      "metadata": {
        "id": "G8ixxJSVUJxz"
      }
    },
    {
      "cell_type": "code",
      "source": [
        "# Lakukan perbaikan disini!\n",
        "x = 123\n",
        "y = '123456'\n",
        "\n",
        "# Check membership\n",
        "z = ...\n",
        "\n",
        "# Show result\n",
        "print(z)"
      ],
      "metadata": {
        "colab": {
          "base_uri": "https://localhost:8080/"
        },
        "id": "NL1cd1XsD6y2",
        "outputId": "36c76c6a-ede2-47ab-dfb9-653afef8325e"
      },
      "execution_count": null,
      "outputs": [
        {
          "output_type": "stream",
          "name": "stdout",
          "text": [
            "True\n"
          ]
        }
      ]
    },
    {
      "cell_type": "code",
      "source": [
        "# Initialize Variable\n",
        "x = 123\n",
        "y = '123456'\n",
        "\n",
        "# Check membership\n",
        "z = (str(x) in y)\n",
        "\n",
        "# Show result\n",
        "print(z)"
      ],
      "metadata": {
        "colab": {
          "base_uri": "https://localhost:8080/"
        },
        "id": "oq1oVap0UKOy",
        "outputId": "53a48959-7e8a-4daf-fa56-02f48dcbba80"
      },
      "execution_count": null,
      "outputs": [
        {
          "output_type": "stream",
          "name": "stdout",
          "text": [
            "True\n"
          ]
        }
      ]
    },
    {
      "cell_type": "markdown",
      "source": [
        "## ⏰ **4. Statement IF - ELIF - ELSE**\n",
        "\n",
        "* Fungsi <b>if</b> merupakan kondisi yang digunakan untuk menentukan tindakan apa yang dilakukan sesuai dengan keadaan tertentu.\n",
        "* Statement <code>if</code> diletakkan paling awal dan akan selalu dieksekusi saat di-*running*.\n",
        "* Penggunaan fungsi <b>if</b> - <b>elif</b> - <b>else</b> dapat menyesuaikan sesuai kondisi yang diinginkan.\n",
        "* Bentuk umum fungsi if adalah sebagai berikut :\n",
        "\n",
        "```\n",
        "    if(kondisi pertama):\n",
        "        pernyataan yang akan dieksekusi jika kondisi terpenuhi\n",
        "    elif(kondisi kedua):\n",
        "        pernyataan yang akan dieksekusi jika kondisi terpenuhi\n",
        "     ...\n",
        "\n",
        "    else:\n",
        "        pernyataan default akan dieksekusi jika tidak ada pernyataan diatas yang terpenuhi\n",
        "```\n",
        "\n",
        "Note : <i>Ketika sebuah kondisi terpenuhi, maka kondisi setelahnya tidak akan diperiksa namun jika tidak maka akan diperiksa kondisi setelahnya dan seterusnya sampai semua kondisi tidak memenuhi maka kondisi <b>else</b> (kondisi default) akan dieksekusi (hal ini berlaku secara berurutan)</i>\n",
        "\n",
        "  "
      ],
      "metadata": {
        "id": "yyL7VY2_RLO0"
      }
    },
    {
      "cell_type": "markdown",
      "source": [
        "### 👨‍💻 Task 4 - A\n",
        "\n",
        "Saat sedang *flash sale*, DQTech memberikan diskon sebesar 10% setiap pembelian minimum IDR 100.000. Lakukan simulasi berikut :    \n",
        "\n",
        "1.   Lakukan proses input untuk total pembelian\n",
        "2.   Lakukan konversi tipe data (str -> float)\n",
        "3.   Lakukan proses pemeriksaan kondisi <br>\n",
        "     Jika lebih dari pembelian minimum, maka tampilkan pada prompt <br>**'Selamat anda mendapatkan diskon 10%'**\n",
        "     <br>Jika tidak maka tampilkan <br>**'Maaf, total pembelian Anda belum mencapai minimum pembelian.'**\n",
        "\n"
      ],
      "metadata": {
        "id": "P6c5hnFqW2_c"
      }
    },
    {
      "cell_type": "code",
      "source": [
        "# 1. Proses input untuk total pembelian\n",
        "total_pembelian_str = input(\"Masukkan total pembelian: \")\n",
        "\n",
        "# 2. Konversi tipe data\n",
        "total_pembelian = float(total_pembelian_str)\n",
        "\n",
        "# 3. Pemeriksaan kondisi\n",
        "if total_pembelian>=100000:\n",
        "  print(f'Selamat anda mendapatkan diskon 10%\\nYEAYYY!!!')\n",
        "else:\n",
        "  print(f'Maaf, total pembelian Anda belum mencapai minimum pembelian')\n",
        "\n"
      ],
      "metadata": {
        "id": "egCOY0DkWQbh",
        "colab": {
          "base_uri": "https://localhost:8080/"
        },
        "outputId": "6ed7a03c-3f24-42a6-c84c-8f052f1dc3ca"
      },
      "execution_count": null,
      "outputs": [
        {
          "output_type": "stream",
          "name": "stdout",
          "text": [
            "Masukkan total pembelian: 20000\n",
            "Maaf, total pembelian Anda belum mencapai minimum pembelian\n",
            "YAHHH!!!\n"
          ]
        }
      ]
    },
    {
      "cell_type": "markdown",
      "source": [
        "### 👨‍💻 Task 4 - B\n",
        "\n",
        "Setelah dievaluasi, manager operasional mengubah kebijakan diskon menjadi\n",
        "\n",
        "*   Jika pembelian diatas IDR 75.000 maka mendapatkan discount 10%\n",
        "*   Jika tidak memenuhi syarat diatas maka hanya mendapatkan discount 5%\n",
        "\n",
        "Dengan cara yang sama seperti **Task 4 - A**, namun outputnya diubah menjadi\n",
        "\n",
        "`'Anda Hanya Perlu Membayar IDR YYYYYYY dari Total Pembelian Anda IDR XXXXXXX'`<br>\n",
        "\n",
        "<sup>XXXXXXX : <i>Harga sebelum diskon</i><br>\n",
        "YYYYYYY : Harga setelah diskon</sup>\n",
        "\n",
        "\n"
      ],
      "metadata": {
        "id": "Dgo40u_7Z9uy"
      }
    },
    {
      "cell_type": "code",
      "source": [
        "# 1. Proses input untuk total pembelian\n",
        "total_pembelian_str = input(\"Masukkan total pembelian: \")\n",
        "\n",
        "# 2. Konversi tipe data\n",
        "total_pembelian = float(total_pembelian_str)\n",
        "\n",
        "# 3. Pemeriksaan kondisi\n",
        "if total_pembelian>75000:\n",
        "  harga_setelah_diskon=total_pembelian-10/100*total_pembelian\n",
        "else:\n",
        "  harga_setelah_diskon=total_pembelian-5/100*total_pembelian\n",
        "\n",
        "# Tampilkan hasilnya\n",
        "print(f'Anda Hanya Perlu Membayar IDR {harga_setelah_diskon} dari Total Pembelian Anda IDR {total_pembelian:,}')"
      ],
      "metadata": {
        "id": "tEFlgvPYbzDx",
        "colab": {
          "base_uri": "https://localhost:8080/"
        },
        "outputId": "3567f4d3-f584-43c3-99c2-3ee026528d23"
      },
      "execution_count": null,
      "outputs": [
        {
          "output_type": "stream",
          "name": "stdout",
          "text": [
            "Masukkan total pembelian: 100000\n",
            "Anda Hanya Perlu Membayar IDR 90000.0 dari Total Pembelian Anda IDR 100,000.0\n"
          ]
        }
      ]
    },
    {
      "cell_type": "code",
      "source": [
        "# 1. Proses input untuk total pembelian\n",
        "total_pembelian_str = input(\"Masukkan total pembelian: \")\n",
        "\n",
        "# 2. Konversi tipe data\n",
        "total_pembelian = float(total_pembelian_str)\n",
        "\n",
        "# 3. Pemeriksaan kondisi\n",
        "if total_pembelian >= 75000:\n",
        "  diskon=10/100*total_pembelian\n",
        "else:\n",
        "  diskon=5/100*total_pembelian\n",
        "\n",
        "harga_setelah_diskon=total_pembelian-diskon\n",
        "\n",
        "# Tampilkan hasilnya\n",
        "print(f'Anda Hanya Perlu Membayar IDR {harga_setelah_diskon} dari Total Pembelian Anda IDR {total_pembelian}')"
      ],
      "metadata": {
        "colab": {
          "base_uri": "https://localhost:8080/"
        },
        "id": "Gkl78S1xq0Mm",
        "outputId": "473329ab-6774-4a8f-8195-45db6d288588"
      },
      "execution_count": null,
      "outputs": [
        {
          "output_type": "stream",
          "name": "stdout",
          "text": [
            "Masukkan total pembelian: 75000\n",
            "Anda Hanya Perlu Membayar IDR 67500.0 dari Total Pembelian Anda IDR 75000.0\n"
          ]
        }
      ]
    },
    {
      "cell_type": "markdown",
      "source": [
        "### 👨‍💻 Task 4 - C\n",
        "\n",
        "Departmen Human Resource DQTech mengklasifikasikan Turn Over Rate (persentase karyawan yang keluar dari sebuah perusahaan dalam jangka waktu tertentu) adalah sebagai berikut\n",
        "\n",
        "1.   Turnover Rate kurang dari 5% dikategorikan 'Rendah'\n",
        "2.   Turnover Rate antara 5 - 10% dikategorikan 'Sedang'\n",
        "3.   Turnover Rate lebih dari 10% dikategorikan 'Tinggi'\n",
        "\n",
        "Misalkan pada awal tahun 2022, DQTech memiliki 1500 karyawan dan diakhir Desember karyawan yang masih bertahan sebanyak 1316. Hitung presentase Trun Over Rate di perusahaan DQTech dan tampilkan pula kategorinya menggunakan fungsi if\n"
      ],
      "metadata": {
        "id": "f4SIn-q_ptLT"
      }
    },
    {
      "cell_type": "code",
      "source": [
        "# Write your code below here & exec!\n",
        "total_karyawan_awal=1500\n",
        "total_karyawan_akhir_str=input('Masukan total karyawan diakhir Desember = ')\n",
        "total_karyawan_akhir=float(total_karyawan_akhir_str)\n",
        "\n",
        "turn_over=total_karyawan_akhir/total_karyawan_awal*100\n",
        "turn_over_rate=100-turn_over\n",
        "\n",
        "if turn_over_rate<5:\n",
        "  print(f'Turnover Rate Rendah')\n",
        "elif turn_over_rate>=5 and turn_over_rate<=10:\n",
        "  print(f'Turnover Rate Sedang')\n",
        "else:\n",
        "  print(f'Turnover Rate Tinggi')\n"
      ],
      "metadata": {
        "id": "Y4VXWnkiqyta",
        "colab": {
          "base_uri": "https://localhost:8080/"
        },
        "outputId": "8be69c0b-5233-4beb-bfba-391021586dda"
      },
      "execution_count": null,
      "outputs": [
        {
          "output_type": "stream",
          "name": "stdout",
          "text": [
            "Masukan total karyawan diakhir Desember = 1316\n",
            "Turnover Rate Tinggi\n"
          ]
        }
      ]
    },
    {
      "cell_type": "markdown",
      "source": [
        "## ⏰ **5. Nested IF**\n",
        "\n",
        "Nested if merupakan penggunaan kondisi setelah sebuah kondisi terpenuhi (kondisi didalam kondisi). Bentuk umum nested if adalah sebagai berikut :\n",
        "\n",
        "    if(kondisi pertama):\n",
        "        if (kondisi 1 setelah kondisi pertama terpenuhi):\n",
        "            pernyataan yang akan dieksekusi jika kondisi terpenuhi\n",
        "        elif(kondisi 2 setelah kondisi pertama terpenuhi):\n",
        "            pernyataan yang akan dieksekusi jika kondisi terpenuhi\n",
        "        ...\n",
        "        else:\n",
        "            pernyataan yang akan dieksekusi jika kondisi terpenuhi\n",
        "\n",
        "    elif(kondisi kedua):\n",
        "        pernyataan yang akan dieksekusi jika kondisi terpenuhi </br>\n",
        "     ...\n",
        "\n",
        "    else:\n",
        "        pernyataan default akan dieksekusi jika tidak ada pernyataan diatas yang terpenuhi</br>\n"
      ],
      "metadata": {
        "id": "9EQl3VaSrZSo"
      }
    },
    {
      "cell_type": "markdown",
      "source": [
        "### 👨‍💻 Task 5\n",
        "\n",
        "Sebelum mengeksekusi kode dibawah ini, coba kalian baca kode program dibawah ini dan prediksi apa kira-kira output yang dihasilkan jika x, y dan z ditampilkan!"
      ],
      "metadata": {
        "id": "EGR3GH0lrtw1"
      }
    },
    {
      "cell_type": "code",
      "source": [
        "# Input variabel\n",
        "a = input('Masukan nilai a : ')\n",
        "b = input('Masukan nilai b : ')\n",
        "c = input('Masukan nilai c : ')\n",
        "\n",
        "# Data Type Convertion\n",
        "a = float(a)\n",
        "b = float(b)\n",
        "c = float(c)\n",
        "\n",
        "# Nested IF\n",
        "if (a <= b):\n",
        "    if (b <= c):\n",
        "        x, y, z = a, b, c\n",
        "    elif(a <= c):\n",
        "        x, y, z = a, c, b\n",
        "    else:\n",
        "        x, y, z = c, a, b\n",
        "else:\n",
        "    if (a <= c):\n",
        "        x, y, z = b, a, c\n",
        "    elif(b <= c):\n",
        "        x, y, z = b, c, a\n",
        "    else:\n",
        "        x, y, z = c, b, a"
      ],
      "metadata": {
        "id": "V1Xx62k7rlPC",
        "colab": {
          "base_uri": "https://localhost:8080/"
        },
        "outputId": "0aad899a-ae21-4f23-fec4-c9658c993369"
      },
      "execution_count": null,
      "outputs": [
        {
          "name": "stdout",
          "output_type": "stream",
          "text": [
            "Masukan nilai a : 4\n",
            "Masukan nilai b : 7\n",
            "Masukan nilai c : 1\n"
          ]
        }
      ]
    },
    {
      "cell_type": "code",
      "source": [
        "print(f'a = {a}, b = {b}, c = {c}')"
      ],
      "metadata": {
        "id": "lIVG6ptY3axW"
      },
      "execution_count": null,
      "outputs": []
    },
    {
      "cell_type": "markdown",
      "source": [
        "---"
      ],
      "metadata": {
        "id": "6Ew9ZHGI8B_T"
      }
    },
    {
      "cell_type": "markdown",
      "source": [
        "# 🔁 **Looping**\n",
        "\n",
        "* Perulangan (<i>looping</i>) merupakan pernyataan atau instruksi yang diberikan kepada komputer agar ia mau melakukan sesuatu secara berulang.\n",
        "\n",
        "* Perulangan hanya dapat dilakukan pada <i>iterables</i> (string, range, list, dict, dll)\n",
        "\n",
        "<p align=\"center\">\n",
        "<img src=\"https://www.fireblazeaischool.in/blogs/wp-content/uploads/2020/06/Loop-in-Python-1024x576.png\" width=\"500\" height=\"280\" alt=\"alternatetext\">\n",
        "<p align=\"center\"><b>Gambar 4. Flowchart Looping</b></p></p><br>\n"
      ],
      "metadata": {
        "id": "U-jUtZJ9xJhZ"
      }
    },
    {
      "cell_type": "markdown",
      "source": [
        "## 🪤 6. Looping dengan For atau While\n",
        "Perulangan pada python dapat menggunakan perintah <b>for</b> maupun <b>while</b>\n",
        "\n",
        "```\n",
        "while(True Conditions):\n",
        "    do something\n",
        "```\n",
        "\n",
        "atau\n",
        "\n",
        "```\n",
        "for element in iterables:\n",
        "    do something\n",
        "```"
      ],
      "metadata": {
        "id": "5kxRQSr2BK6u"
      }
    },
    {
      "cell_type": "markdown",
      "source": [
        "### 👨‍💻 Task 6 - A\n",
        "\n",
        "Range adalah fungsi atau konsep yang digunakan untuk membuat urutan bilangan bulat berurutan. Range biasanya digunakan dalam loop untuk mengeksekusi perintah berulang kali selama jumlah iterasi yang telah ditentukan. Secara umum ditulis sebagai\n",
        "\n",
        "```\n",
        "range(start, stop, step)\n",
        "```\n",
        "\n",
        "Dengan melakukan looping <i>for</i>, tampilkan barisan bilangan berikut :\n",
        "\n",
        "1<br>\n",
        "4<br>\n",
        "7<br>\n",
        "10<br>\n",
        "13<br>"
      ],
      "metadata": {
        "id": "XVhWMcBiFapp"
      }
    },
    {
      "cell_type": "code",
      "source": [
        "# Write your code below here & exec!\n",
        "for i in range(1, 14, 3):\n",
        "  print(f'Nilainya adalah : {i}')"
      ],
      "metadata": {
        "id": "2Q-oLSIq_xxR",
        "colab": {
          "base_uri": "https://localhost:8080/"
        },
        "outputId": "81491058-8d64-4096-95ab-c719181d0501"
      },
      "execution_count": null,
      "outputs": [
        {
          "output_type": "stream",
          "name": "stdout",
          "text": [
            "Nilainya adalah : 1\n",
            "Nilainya adalah : 4\n",
            "Nilainya adalah : 7\n",
            "Nilainya adalah : 10\n",
            "Nilainya adalah : 13\n"
          ]
        }
      ]
    },
    {
      "cell_type": "markdown",
      "source": [
        "### 👨‍💻 Task 6 - B\n",
        "\n",
        "Pada *Customer Retention Analysis*, DQTech menetapkan status customer sebagai berikut\n",
        "\n",
        "Customer yang melakukan pembelian pada :\n",
        "\n",
        "* Rentang waktu 1 - 120 hari yang lalu (dari hari pertama pembelian) dikategorikan sebagai **New Customer**\n",
        "* Rentang waktu 121 - 240 hari yang lalu (dari hari pertama pembelian) dikategorikan sebagai **Need Attention**\n",
        "* Rentang waktu 241 - 360 hari yang lalu (dari hari pertama pembelian) dikategorikan sebagai **Hibernating**\n",
        "* Lebih dari 360 hari dikategorikan sebagai **Can't Lose Them**\n",
        "\n",
        "Dari hasil analisa *recency* berikut didapatkan data [187, 76, 51, 43, 89, 451, 12, 200, 12]\n",
        "\n",
        "Buatlah kode untuk menampilkan hasil sebagai berikut\n",
        "```\n",
        "Recency = 187 masuk ke dalam kategori Need Attention\n",
        "Recency = 76 masuk ke dalam kategori New Customer\n",
        "...\n",
        "```"
      ],
      "metadata": {
        "id": "NwnBoScNWo3h"
      }
    },
    {
      "cell_type": "code",
      "source": [
        "data_recency = [187, 76, 51, 43, 89, 451, 12, 200, 12, 89, 90, 3891, 900]\n",
        "\n",
        "# Write your code below here & exec!\n",
        "for recency in data_recency:\n",
        "  if (1 <= recency <= 120):\n",
        "    tipe='New Customer'\n",
        "  elif (121 <= recency <= 240):\n",
        "    tipe='Need Attention'\n",
        "  elif(241 <= recency <= 360):\n",
        "    tipe='Hibernating'\n",
        "  else:\n",
        "    tipe='Can\\'t Lose Them'\n",
        "  print(f'Recency = {recency} masuk ke dalam kategori {tipe}')"
      ],
      "metadata": {
        "id": "vo3KxAGQRwxo",
        "colab": {
          "base_uri": "https://localhost:8080/"
        },
        "outputId": "95a668fe-5827-42c6-fa8c-5faa9d5aace6"
      },
      "execution_count": null,
      "outputs": [
        {
          "output_type": "stream",
          "name": "stdout",
          "text": [
            "Recency = 187 masuk ke dalam kategori Need Attention\n",
            "Recency = 76 masuk ke dalam kategori New Customer\n",
            "Recency = 51 masuk ke dalam kategori New Customer\n",
            "Recency = 43 masuk ke dalam kategori New Customer\n",
            "Recency = 89 masuk ke dalam kategori New Customer\n",
            "Recency = 451 masuk ke dalam kategori Can't Lose Them\n",
            "Recency = 12 masuk ke dalam kategori New Customer\n",
            "Recency = 200 masuk ke dalam kategori Need Attention\n",
            "Recency = 12 masuk ke dalam kategori New Customer\n",
            "Recency = 89 masuk ke dalam kategori New Customer\n",
            "Recency = 90 masuk ke dalam kategori New Customer\n",
            "Recency = 3891 masuk ke dalam kategori Can't Lose Them\n",
            "Recency = 900 masuk ke dalam kategori Can't Lose Them\n"
          ]
        }
      ]
    },
    {
      "cell_type": "code",
      "source": [
        "data_recency = [187, 76, 51, 43, 89, 451, 12, 200, 12, 89, 90, 3891, 900]\n",
        "# Write your code below here & exec!\n",
        "for cust in data_recency:\n",
        "  if (1 <= cust <= 120):\n",
        "    print(f'Recency = {cust} masuk ke dalam kategori New Customer')\n",
        "  elif (121 <= cust <= 240):\n",
        "    print(f'Recency = {cust} masuk ke dalam kategori Need Attention')\n",
        "  elif(241 <= cust <= 360):\n",
        "    print(f'Recency = {cust} masuk ke dalam kategori Hibernating')\n",
        "  else:\n",
        "    print(f'Recency = {cust} masuk ke dalam kategori Can\\'t Lose Them')"
      ],
      "metadata": {
        "colab": {
          "base_uri": "https://localhost:8080/"
        },
        "id": "2Jv55yn-yRvW",
        "outputId": "e298205f-bdc2-4a4c-d8a2-d535bcbee86d"
      },
      "execution_count": null,
      "outputs": [
        {
          "output_type": "stream",
          "name": "stdout",
          "text": [
            "Recency = 187 masuk ke dalam kategori Need Attention\n",
            "Recency = 76 masuk ke dalam kategori New Customer\n",
            "Recency = 51 masuk ke dalam kategori New Customer\n",
            "Recency = 43 masuk ke dalam kategori New Customer\n",
            "Recency = 89 masuk ke dalam kategori New Customer\n",
            "Recency = 451 masuk ke dalam kategori Can't Lose Them\n",
            "Recency = 12 masuk ke dalam kategori New Customer\n",
            "Recency = 200 masuk ke dalam kategori Need Attention\n",
            "Recency = 12 masuk ke dalam kategori New Customer\n",
            "Recency = 89 masuk ke dalam kategori New Customer\n",
            "Recency = 90 masuk ke dalam kategori New Customer\n",
            "Recency = 3891 masuk ke dalam kategori Can't Lose Them\n",
            "Recency = 900 masuk ke dalam kategori Can't Lose Them\n"
          ]
        }
      ]
    },
    {
      "cell_type": "markdown",
      "source": [
        "---"
      ],
      "metadata": {
        "id": "ubhxZFa78Dqh"
      }
    },
    {
      "cell_type": "markdown",
      "source": [
        "# 🕵🏻‍♂️ **Function**\n",
        "\n",
        "* Function atau fungsi adalah blok kode yang terorganisir dan dapat digunakan kembali yang digunakan untuk melakukan satu tindakan terkait.\n",
        "* Fungsi memberikan modularitas yang lebih baik untuk program dan penggunaan ulang kode tingkat tinggi.\n",
        "\n",
        "* Bentuk umum fungsi :    \n",
        "\n",
        "```\n",
        "def nama_fungsi(argumen):\n",
        "    isi_fungsi\n",
        "    return (hasil)\n",
        "```\n",
        "\n",
        "*argumen dan <i>return</i> (nilai kembalian) salah satu atau keduanya bersifat opsional.*\n",
        "\n",
        "\n",
        "Notes :\n",
        "<li>Sebuah fungsi dapat dipanggil berulang kali</li>\n",
        "<li>Penamaan fungsi mirip dengan aturan penamaan variabel</li>"
      ],
      "metadata": {
        "id": "EMuxz0Z88EU5"
      }
    },
    {
      "cell_type": "markdown",
      "source": [
        "## ⚖️ 7. Argumen\n",
        "\n",
        "Argumen (atau beberapa menyebut parameter) digunakan sebagai variabel bebas yang bisa diinisialisasikan oleh user sifatnya wajib dipanggil saat tidak disetting defaultnya. Perhatikan contoh berikut\n",
        "\n",
        "```\n",
        "def tampilkan_pelanggan(cust_name):\n",
        "    print(f'Nama pelanggan = {cust_name}')\n",
        "```\n",
        "\n",
        "Saat fungsi tersebut dipanggil lalu diinisialisasi argumennya maka akan diperoleh\n",
        "\n",
        "```\n",
        "tampilkan_pelanggan(cust_name = 'Aksara')\n",
        "\n",
        "output :\n",
        "   Nama pelanggan = Aksara\n",
        "```\n",
        "\n",
        "Sedangkan jika tidak dipanggil argumennya maka akan mengakibatkan error\n",
        "\n",
        "```\n",
        "tampilkan_pelanggan()\n",
        "\n",
        "output :\n",
        "   ---------------------------------------------------------------------------\n",
        "   TypeError                                 Traceback (most recent call last)\n",
        "   <ipython-input-7-8e3e4532eb31> in <cell line: 1>()\n",
        "   ----> 1 tampilkan_pelanggan()\n",
        "\n",
        "   TypeError: tampilkan_pelanggan() missing 1 required positional argument: 'cust_name'\n",
        "```\n",
        "\n"
      ],
      "metadata": {
        "id": "1Ncar4cc_iSR"
      }
    },
    {
      "cell_type": "markdown",
      "source": [
        "### 👨‍💻 Task 7\n",
        "\n",
        "Buatlah sebuah fungsi dengan nama fungsi `jenis_bilangan` dengan argumen yang dinamai dengan `data` (argumen ini bertipe data list numerik). Contoh :     \n",
        "\n",
        "```\n",
        "list_data = [1, 2, 6, 4, 3]\n",
        "\n",
        "jenis_bilangan(data = list_data)\n",
        "\n",
        "output :     \n",
        "    Angka 1 termasuk bilangan ganjil\n",
        "    Angka 2 termasuk bilangan genap\n",
        "    Angka 6 termasuk bilangan genap\n",
        "    Angka 4 termasuk bilangan genap\n",
        "    Angka 3 termasuk bilangan ganjil    \n",
        "```"
      ],
      "metadata": {
        "id": "oz8K1RaDKHHU"
      }
    },
    {
      "cell_type": "code",
      "source": [
        "# List data\n",
        "list_data = [1, 2, 6, 4, 3, -5, -8, 0]\n",
        "\n",
        "# Write your code below here & exec!\n",
        "def jenis_bilangan(data=list_data):\n",
        "  for i in data:\n",
        "    if(i % 2 == 0):\n",
        "      print(f'Angka {i} termasuk bilangan genap')\n",
        "    else:\n",
        "      print(f'Angka {i} termasuk bilangan ganjil')\n",
        "\n",
        "# Terapkan fungsinya\n",
        "jenis_bilangan(data=list_data)"
      ],
      "metadata": {
        "id": "vy-uOUjzPItX",
        "colab": {
          "base_uri": "https://localhost:8080/"
        },
        "outputId": "b96c6486-101e-4ea9-8059-a95bcbad9a60"
      },
      "execution_count": 64,
      "outputs": [
        {
          "output_type": "stream",
          "name": "stdout",
          "text": [
            "Angka 1 termasuk bilangan ganjil\n",
            "Angka 2 termasuk bilangan genap\n",
            "Angka 6 termasuk bilangan genap\n",
            "Angka 4 termasuk bilangan genap\n",
            "Angka 3 termasuk bilangan ganjil\n",
            "Angka -5 termasuk bilangan ganjil\n",
            "Angka -8 termasuk bilangan genap\n",
            "Angka 0 termasuk bilangan genap\n"
          ]
        }
      ]
    },
    {
      "cell_type": "markdown",
      "source": [
        "## 🤖 **8. Default Argumen**\n",
        "\n",
        "* Default argument adalah nilai yang diberikan kepada suatu parameter fungsi jika tidak ada nilai yang diberikan oleh pemanggil fungsi untuk parameter tersebut.\n",
        "* Ketika fungsi dipanggil, jika pemanggil fungsi tidak memberikan nilai untuk parameter yang memiliki argumen default, maka nilai default tersebut akan digunakan.\n",
        "\n",
        "```\n",
        "def tampilkan_pelanggan(cust_name = 'Anonymous'):\n",
        "    print(f'Nama pelanggan = {cust_name}')\n",
        "```\n",
        "\n",
        "Saat fungsi tersebut dipanggil, namun argumen cust_name tidak diinisialisasikan maka nilai default-lah yang akan muncul\n",
        "\n",
        "```\n",
        "tampilkan_pelanggan()\n",
        "\n",
        "output :\n",
        "    Nama pelanggan = Anonymous\n",
        "```\n",
        "\n",
        "Namun jika argumen cust_name diberi nilai maka default argumen akan tergantikan\n",
        "\n",
        "```\n",
        "tampilkan_pelanggan(cust_name = 'Aksara')\n",
        "\n",
        "output :\n",
        "   Nama pelanggan = Aksara\n",
        "```\n",
        "\n",
        "Sehingga dapat disimpulkan jika argumen tidak diatur default argumennya maka argumen tersebut wajib (mandatory) diberi nilai / diinisialisasi, jika argumen default diatur maka statusnya turun dari mandatory menjadi opsional"
      ],
      "metadata": {
        "id": "UQC1VKMyOFT4"
      }
    },
    {
      "cell_type": "markdown",
      "source": [
        "### 👨‍💻 Task 8\n",
        "\n",
        "Salah satu proses ETL adalah Ekstraksi data atau mendapatkan data. Untuk mengkonversi data dari sebuah database SQL menjadi dataframe pandas (data yang bisa diolah dengan Python) adalah dengan menggunakan bantuan read_sql.<br><br>\n",
        "\n",
        "Kunjungi laman dokumentasi resmi pandas.read_sql berikut https://pandas.pydata.org/docs/reference/api/pandas.read_sql.html dan catatlah argumen apa saja yang digunakan lalu beri keterangan pula mana saja yang merupakan argumen *mandatory* dan mana yang merupakan *argumen optional* (default argument)"
      ],
      "metadata": {
        "id": "KRHf1U8-P7W8"
      }
    },
    {
      "cell_type": "markdown",
      "source": [
        "##🎣**9. Return**\n",
        "\n",
        "* Return digunakan sebagai nilai kembalian (fungsi menghasilkan sebuah objek / nilai)\n",
        "* Sifatnya opsional\n",
        "\n",
        "Perhatikan contoh berikut\n",
        "\n",
        "```\n",
        "def hasil_kali_dengan_return(x, y):\n",
        "    result = x * y\n",
        "    return(result)\n",
        "```\n",
        "\n",
        "Jika fungsi tersebut dieksekusi maka\n",
        "\n",
        "```\n",
        "z = hasil_kali_dengan_return(x = 5, y = -2)\n",
        "\n",
        "print(z)\n",
        "\n",
        "output :     \n",
        "    -10\n",
        "```\n",
        "\n",
        "---\n",
        "\n",
        "Bandingkan dengan\n",
        "\n",
        "```\n",
        "def hasil_kali_tanpa_return(x, y):\n",
        "    result = x * y\n",
        "```\n",
        "\n",
        "Jika fungsi tersebut dieksekusi maka\n",
        "\n",
        "```\n",
        "z = hasil_kali_tanpa_return(x = 5, y = -2)\n",
        "\n",
        "print(z)\n",
        "\n",
        "output :     \n",
        "    None\n",
        "```\n",
        "\n",
        "Kesimpulan : Jika ingin diperoleh suatu nilai dari hasil eksekusi fungsi, maka perlu menggunakan `return`, jika tidak maka tidak perlu digunakan\n",
        "\n",
        "\n"
      ],
      "metadata": {
        "id": "crHS9vafAJcE"
      }
    },
    {
      "cell_type": "markdown",
      "source": [
        "### 👨‍💻 Task 9\n",
        "\n",
        "Buatlah sebuah fungsi dengan nama fungsi `rataan_data` dengan argumen yang dinamai dengan `data` (argumen ini bertipe data list numerik). Contoh :     \n",
        "\n",
        "```\n",
        "list_data = [1, 2, 6, 8, 4, 3]\n",
        "\n",
        "mean = rataan_data(data = list_data)\n",
        "\n",
        "print(f'Rataan dari data {list_data} adalah {mean}')\n",
        "\n",
        "output :     \n",
        "    Rataan dari data [1, 2, 6, 8, 4, 3] adalah 4\n",
        "```"
      ],
      "metadata": {
        "id": "exmixIhgVyT4"
      }
    },
    {
      "cell_type": "code",
      "source": [
        "list_data = [1, 2, 6, 8, 4, 3]\n",
        "\n",
        "mean = sum(list_data)/len(list_data)\n",
        "\n",
        "print(f'Rataan dari data {list_data} adalah {mean}')"
      ],
      "metadata": {
        "colab": {
          "base_uri": "https://localhost:8080/"
        },
        "id": "5JWjsNjFZP4R",
        "outputId": "ed9aa0ab-7bdf-4764-8c22-6b69a1695c86"
      },
      "execution_count": 4,
      "outputs": [
        {
          "output_type": "stream",
          "name": "stdout",
          "text": [
            "Rataan dari data [1, 2, 6, 8, 4, 3] adalah 4.0\n"
          ]
        }
      ]
    },
    {
      "cell_type": "code",
      "source": [
        " list_data = [1, 2, 6, 8, 4, 3]\n",
        "\n",
        "def hitung_rataan(data=list_data):\n",
        "    mean = sum(data) / len(data)\n",
        "    return (mean)\n",
        "\n",
        "mean = hitung_rataan(data=list_data)\n",
        "\n",
        "print(f'Rataan dari data {list_data} adalah {mean}')"
      ],
      "metadata": {
        "colab": {
          "base_uri": "https://localhost:8080/"
        },
        "id": "a-YpYR-myf91",
        "outputId": "3496055f-ed32-4350-8d32-822deaa0b06a"
      },
      "execution_count": 89,
      "outputs": [
        {
          "output_type": "stream",
          "name": "stdout",
          "text": [
            "Rataan dari data [1, 2, 6, 8, 4, 3] adalah 4.0\n"
          ]
        }
      ]
    },
    {
      "cell_type": "markdown",
      "source": [
        "---"
      ],
      "metadata": {
        "id": "czfDAY-xW-FD"
      }
    }
  ]
}