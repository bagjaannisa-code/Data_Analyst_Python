{
  "nbformat": 4,
  "nbformat_minor": 0,
  "metadata": {
    "colab": {
      "provenance": [],
      "toc_visible": true
    },
    "kernelspec": {
      "name": "python3",
      "display_name": "Python 3"
    },
    "language_info": {
      "name": "python"
    }
  },
  "cells": [
    {
      "cell_type": "markdown",
      "source": [
        "#🏋🏼‍♂️<b>List</b>\n",
        "\n",
        "List adalah tipe data pada Python yang dapat menyimpan berbagai jenis data, termasuk angka, string, atau bahkan objek lain (fleksibilitas cukup tinggi).\n",
        "\n",
        "Sifat List :\n",
        "\n",
        "<ol>\n",
        "  <li>Ditandai dengan kurung siku [ ] saat proses inisialisasinya dan nilainya dipisahkan dengan tanda koma</li>\n",
        "  <li>Elemen pada list dapat diubah / dapat diupdate (<i>changeable</i>)</li>\n",
        "  <li>List menerima elemen yang sama / duplikat (<i>allow duplicate values</i>)</li>\n",
        "  <li>Elemen pada list terurut (<i>ordered</i>) sesuai label/index yang diberikan (bukan terurut alfabetikal atau numerikal)</li>\n",
        "</ol>"
      ],
      "metadata": {
        "id": "dGtEcBhuTvxG"
      }
    },
    {
      "cell_type": "markdown",
      "source": [
        "## ⚔️<b>1. Membuat List</b>\n",
        "\n",
        "<ul>\n",
        "  <li>List Kosong</li>\n",
        "\n",
        "  ```\n",
        "  empty_list = []\n",
        "  ```\n",
        "\n",
        "  <li>List Seragam</li>\n",
        "\n",
        "  ```\n",
        "  trx_code_july23 = ['TRX20230701', 'TRX20230702', 'TRX20230703']\n",
        "  ```\n",
        "\n",
        "  <li>List Beragam</li>\n",
        "\n",
        "  ```\n",
        "  detail_trx = ['TRX20230701', 1500000, ['Cendol', 'Seblak'], True]\n",
        "  ```\n",
        "\n",
        "</ul>"
      ],
      "metadata": {
        "id": "deiKmiC7XX5o"
      }
    },
    {
      "cell_type": "markdown",
      "source": [
        "### 👨‍💻 Task 1 - A\n",
        "\n",
        "Produk 'Bika Ambon', 'Cendol', 'Pete' dan 'Yellow Dragon Fruit' merupakan produk yang <i>best seller</i> bulan ini di DQCommerce. Buatlah sebuah `list` untuk menampung nama <i>best seller product</i> tersebut!"
      ],
      "metadata": {
        "id": "z8mq3ZhLTwsX"
      }
    },
    {
      "cell_type": "code",
      "source": [
        "# Write your code below here & exec!\n",
        "best_seller_product = ['Bika Ambon', 'Cendol', 'Pete', 'Yellow Dragon Fruit']"
      ],
      "metadata": {
        "id": "_2T1Vz_ZTwNp",
        "colab": {
          "base_uri": "https://localhost:8080/"
        },
        "outputId": "306b983e-e0f5-44e9-8de4-257b952302d0"
      },
      "execution_count": null,
      "outputs": [
        {
          "output_type": "stream",
          "name": "stdout",
          "text": [
            "['Bika Ambon', 'Cendol', 'Pete', 'Yellow Dragon Fruit']\n"
          ]
        }
      ]
    },
    {
      "cell_type": "markdown",
      "source": [
        "### 👨‍💻 Task 1 - B\n",
        "\n",
        "Tampilkan variabel yang telah dibuat pada <b>Task 1-A</b> lalu tampilkan juga tipe datanya"
      ],
      "metadata": {
        "id": "U4dfKLdtZEig"
      }
    },
    {
      "cell_type": "code",
      "source": [
        "# Write your code below here & exec!\n",
        "print(f'Best Seller Product = {best_seller_product} mempunyai tipe data {type(best_seller_product)}')"
      ],
      "metadata": {
        "id": "jLlFoHWaajwp",
        "colab": {
          "base_uri": "https://localhost:8080/"
        },
        "outputId": "5efc504b-82a0-409b-ae20-308b93e91ba7"
      },
      "execution_count": null,
      "outputs": [
        {
          "output_type": "stream",
          "name": "stdout",
          "text": [
            "Best Seller Product = ['Bika Ambon', 'Cendol', 'Pete', 'Yellow Dragon Fruit'] mempunyai tipe data <class 'list'>\n"
          ]
        }
      ]
    },
    {
      "cell_type": "markdown",
      "source": [
        "## 🍔 <b>2. Banyak Elemen pada List</b>\n",
        "\n",
        "Eksekusi fungsi <code>len(nama_list)</code> untuk mendapatkan banyaknya elemen pada list\n",
        "\n",
        "<i>docs : https://docs.python.org/3/library/functions.html#len</i>"
      ],
      "metadata": {
        "id": "GLaghCtea5_S"
      }
    },
    {
      "cell_type": "markdown",
      "source": [
        "### 👨‍💻 Task 2 - A\n",
        "\n",
        "Kroma, Risk Manager di DQTech ingin melakukan mitigasi resiko pada departemen data. List yang harus dilakukan sudah tertera di <i>prompt</i> (dibawah ini).\n",
        "\n",
        "Bantu Kroma untuk mendapatkan jawaban 'Berapa banyak <i>risk indicator</i> yang harus ia evaluasi?'\n",
        "\n"
      ],
      "metadata": {
        "id": "tJCYoJrhb13F"
      }
    },
    {
      "cell_type": "code",
      "source": [
        "# Initialize list\n",
        "risk_indicator = ['Kehilangan Data', 'Kualitas Data Buruk', 'Kekurangan Data', 'Data tidak Akurat', 'Pelanggaran Privasi']\n",
        "\n",
        "# Write your code below here & exec!\n",
        "print(len(risk_indicator))"
      ],
      "metadata": {
        "id": "jmnR2kQrdvoQ",
        "colab": {
          "base_uri": "https://localhost:8080/"
        },
        "outputId": "c26c4735-43e8-48bc-a6a8-6aa9e678a62b"
      },
      "execution_count": null,
      "outputs": [
        {
          "output_type": "stream",
          "name": "stdout",
          "text": [
            "5\n"
          ]
        }
      ]
    },
    {
      "cell_type": "markdown",
      "source": [
        "### 👨‍💻 Task 2 - B\n",
        "\n",
        "Setelah dilakukan evaluasi pada beberapa <i>risk indicator</i>, Kroma lalu memberikan beberapa keterangan tambahan. Periksa kembali banyaknya <i>risk indicator</i> yang telah diupdate Kroma untuk memastikan."
      ],
      "metadata": {
        "id": "JuV1WgHbf1LW"
      }
    },
    {
      "cell_type": "code",
      "source": [
        "update_risk_indicator = [\n",
        "    ['Kehilangan Data', 'High', 'ASAP'],\n",
        "    'Kualitas Data Buruk',\n",
        "    'Kekurangan Data',\n",
        "    ['Data Tidak Akurat', 'Medium', ['Data Engineer', 'IT Infra']],\n",
        "    'Pelanggaran Privasi'\n",
        "]\n",
        "\n",
        "# Write your code below here & exec!\n",
        "print(len(update_risk_indicator))\n",
        "#list elemen dalam list\n",
        "print(update_risk_indicator[3][2][0])"
      ],
      "metadata": {
        "id": "klMga46SftQp",
        "colab": {
          "base_uri": "https://localhost:8080/"
        },
        "outputId": "4e2f2690-e5ef-436b-ec79-aefa832b5e67"
      },
      "execution_count": null,
      "outputs": [
        {
          "output_type": "stream",
          "name": "stdout",
          "text": [
            "5\n",
            "Data Engineer\n"
          ]
        }
      ]
    },
    {
      "cell_type": "markdown",
      "source": [
        "##🔎 <b>3. Mengakses List</b>\n",
        "\n",
        "Setiap elemen pada list yang terbentuk, secara otomatis akan mempunyai pengenal posisi atau disebut index.\n",
        "\n",
        "<p align=\"center\">\n",
        "<img src=\"https://media.geeksforgeeks.org/wp-content/uploads/List-Slicing.jpg\" width=\"450\" height=\"200\" alt=\"alternatetext\">\n",
        "<p align=\"center\"><b>Gambar 1. Index Pada List</b></p></p><br>\n",
        "\n",
        "<ol>\n",
        "  <li>Untuk mengakses 1 elemen list pada index tertentu gunakan format <code>list[index]</code></li>\n",
        "  <li>Untuk mengakses lebih dari satu elemen (index ke-i s.d index ke-j) gunakan format <code>list[index ke-i : index ke-j+1]</code></li>\n",
        "</ol>"
      ],
      "metadata": {
        "id": "axpIJm-8k45d"
      }
    },
    {
      "cell_type": "markdown",
      "source": [
        "### 👨‍💻 Task 3 - A\n",
        "\n",
        "Pada list produk berikut tampilkan elemen yang memiliki index 1"
      ],
      "metadata": {
        "id": "amRQ9WZaq0i7"
      }
    },
    {
      "cell_type": "code",
      "source": [
        "list_produk = ['flash disk DQLab 32GB', 'Buku planner DQLab', 'Gantungan Kunci DQlab', 'kotak pensil DQLab']\n",
        "\n",
        "# Write your code below here & exec!\n",
        "print(list_produk[1])\n",
        "print(list_produk[-3])"
      ],
      "metadata": {
        "id": "7cD1LATwq1Kl",
        "colab": {
          "base_uri": "https://localhost:8080/"
        },
        "outputId": "85e00283-2818-4bdf-ed21-8424f9cd1036"
      },
      "execution_count": null,
      "outputs": [
        {
          "output_type": "stream",
          "name": "stdout",
          "text": [
            "Buku planner DQLab\n",
            "Buku planner DQLab\n"
          ]
        }
      ]
    },
    {
      "cell_type": "markdown",
      "source": [
        "### 👨‍💻 Task 3 - B\n",
        "\n",
        "Pada list produk berikut tampilkan elemen yang memiliki index 1 sampai 3"
      ],
      "metadata": {
        "id": "Ox2SD_8DrK2j"
      }
    },
    {
      "cell_type": "code",
      "source": [
        "list_produk = ['Flash Disk DQLab 32GB', 'Buku planner DQLab', 'Gantungan Kunci DQlab', 'Kotak pensil DQLab', 'Kantong Ajaib DQLab']\n",
        "\n",
        "# Write your code below here & exec!\n",
        "print(list_produk[1:4])\n",
        "#list[i:j+1]\n",
        "#list[1:3+1]\n",
        "#list[1:4]\n",
        "print(list_produk[-4:-1])\n",
        "print(list_produk[-4:4])\n",
        "print(list_produk[1:-1])"
      ],
      "metadata": {
        "id": "_t7N45MW1h0p",
        "colab": {
          "base_uri": "https://localhost:8080/"
        },
        "outputId": "869dabab-8e55-410a-a281-45af3aa8846e"
      },
      "execution_count": null,
      "outputs": [
        {
          "output_type": "stream",
          "name": "stdout",
          "text": [
            "['Buku planner DQLab', 'Gantungan Kunci DQlab', 'Kotak pensil DQLab']\n",
            "['Buku planner DQLab', 'Gantungan Kunci DQlab', 'Kotak pensil DQLab']\n",
            "['Buku planner DQLab', 'Gantungan Kunci DQlab', 'Kotak pensil DQLab']\n",
            "['Buku planner DQLab', 'Gantungan Kunci DQlab', 'Kotak pensil DQLab']\n"
          ]
        }
      ]
    },
    {
      "cell_type": "markdown",
      "source": [
        "### 👨‍💻 Task 3 - C\n",
        "\n",
        "Tampilkan semua list transaksi id berikut kecuali 2 elemen terakhir!"
      ],
      "metadata": {
        "id": "OEOCR_qI1nAd"
      }
    },
    {
      "cell_type": "code",
      "source": [
        "list_trx_id = ['DQTRX790', 'DQTRX482', 'DQTRX361', 'DQTRX224', 'DQTRX894', 'DQTRX497', 'DQTRX278', 'DQTRX329', 'DQTRX978', 'DQTRX577', 'DQTRX871', 'DQTRX971', 'DQTRX888', 'DQTRX882', 'DQTRX8941', 'DQTRX455']\n",
        "\n",
        "# Write your code below here & exec!\n",
        "print(list_trx_id[0:len(list_trx_id)-2])\n",
        "#bisa juga ditulis kaya gini\n",
        "print(list_trx_id[:len(list_trx_id)-2])\n",
        "#ini yg lebih sederhana\n",
        "print(list_trx_id[0:-2])\n",
        "#ini paling sederhana\n",
        "print(list_trx_id[:-2])\n",
        "##ini artinya output dari data pertama dan kecuali 2 data terakhir"
      ],
      "metadata": {
        "colab": {
          "base_uri": "https://localhost:8080/"
        },
        "id": "jLn7XUYBed6A",
        "outputId": "49d26975-262b-43a2-8640-22eb86d87d3f"
      },
      "execution_count": null,
      "outputs": [
        {
          "output_type": "stream",
          "name": "stdout",
          "text": [
            "['DQTRX790', 'DQTRX482', 'DQTRX361', 'DQTRX224', 'DQTRX894', 'DQTRX497', 'DQTRX278', 'DQTRX329', 'DQTRX978', 'DQTRX577', 'DQTRX871', 'DQTRX971', 'DQTRX888', 'DQTRX882']\n",
            "['DQTRX790', 'DQTRX482', 'DQTRX361', 'DQTRX224', 'DQTRX894', 'DQTRX497', 'DQTRX278', 'DQTRX329', 'DQTRX978', 'DQTRX577', 'DQTRX871', 'DQTRX971', 'DQTRX888', 'DQTRX882']\n",
            "['DQTRX790', 'DQTRX482', 'DQTRX361', 'DQTRX224', 'DQTRX894', 'DQTRX497', 'DQTRX278', 'DQTRX329', 'DQTRX978', 'DQTRX577', 'DQTRX871', 'DQTRX971', 'DQTRX888', 'DQTRX882']\n",
            "['DQTRX790', 'DQTRX482', 'DQTRX361', 'DQTRX224', 'DQTRX894', 'DQTRX497', 'DQTRX278', 'DQTRX329', 'DQTRX978', 'DQTRX577', 'DQTRX871', 'DQTRX971', 'DQTRX888', 'DQTRX882']\n"
          ]
        }
      ]
    },
    {
      "cell_type": "code",
      "source": [
        "angka = [1, 2, 3]\n",
        "hasil = [1, 2, 3] * 4\n",
        "print(f'hasil = {angka}')\n",
        "print(f'Tipe data best seller product = {type(angka)}')\n",
        "print(f'hasil {hasil}')"
      ],
      "metadata": {
        "colab": {
          "base_uri": "https://localhost:8080/"
        },
        "id": "m0TfU4rvA-Fq",
        "outputId": "f067cadb-c82f-4ddc-aced-8c083196ca6f"
      },
      "execution_count": null,
      "outputs": [
        {
          "output_type": "stream",
          "name": "stdout",
          "text": [
            "hasil = [1, 2, 3]\n",
            "Tipe data best seller product = <class 'list'>\n",
            "hasil [1, 2, 3, 1, 2, 3, 1, 2, 3, 1, 2, 3]\n"
          ]
        }
      ]
    },
    {
      "cell_type": "markdown",
      "source": [
        "## 🤳🏼 **4. Updating Element List**\n",
        "\n",
        "Untuk dapat meng-<i>update</i> / memperbarui elemen pada list, lakukan proses <i>assignment</i> pada list dengan index yang akan diupdate.\n",
        "\n",
        "Contoh :\n",
        "\n",
        "```\n",
        "#Inisialisasi list\n",
        "nama_pelanggan = ['Bang Messi', 'Bang Dodo', 'Ngab Ngalam']\n",
        "\n",
        "# Update elemen ketiga (index ke-2) menjadi Bang Malang\n",
        "nama_pelanggan[2] = 'Bang Malang'\n",
        "\n",
        "print(nama_pelanggan)\n",
        "```\n",
        "\n",
        "Output yang dihasilkan adalah\n",
        "\n",
        "```\n",
        "nama_pelanggan = ['Bang Messi', 'Bang Dodo', 'Bang Malang']\n",
        "```\n",
        "\n",
        "\n",
        "\n"
      ],
      "metadata": {
        "id": "R1Bq89Wy3fq1"
      }
    },
    {
      "cell_type": "markdown",
      "source": [
        "### 👨‍💻 Task 4\n",
        "\n",
        "Periksa penulisan pada data provinsi customer DQTech berikut :     \n",
        "\n",
        "```\n",
        "list_kota = ['Jawa Barat', 'Sulawsi Utara', 'Bengkulu', 'Kalimantam Timur']\n",
        "```\n",
        "\n",
        "Kemudian perbaiki penulisan jika ditemukan <i>typing of error (typo)</i>\n",
        "\n"
      ],
      "metadata": {
        "id": "L8qPJ4Uu6-Df"
      }
    },
    {
      "cell_type": "code",
      "source": [
        "# Write your code below here & exec!\n",
        "\n",
        "# Inisialisasi list\n",
        "list_kota = ['Jawa Barat', 'Sulawsi Utara', 'Bungkulu', 'Kalimantam Timur']\n",
        "\n",
        "# Tampilkan list awal\n",
        "print(f'List kota awal = {list_kota}')\n",
        "\n",
        "# Lakukan perbaikan\n",
        "list_kota[1:4]='Sulawesi Utara', 'Bengkulu', 'Kalimantan Timur'\n",
        "\n",
        "# Tampilkan hasil perbaikan\n",
        "print(f'List kota setelah perbaikan = {list_kota}')"
      ],
      "metadata": {
        "id": "jgt9viJb8GRB",
        "colab": {
          "base_uri": "https://localhost:8080/"
        },
        "outputId": "1b0a9dfd-268f-42aa-c01f-088a1395e4f4"
      },
      "execution_count": null,
      "outputs": [
        {
          "output_type": "stream",
          "name": "stdout",
          "text": [
            "List kota awal = ['Jawa Barat', 'Sulawsi Utara', 'Bungkulu', 'Kalimantam Timur']\n",
            "List kota setelah perbaikan = ['Jawa Barat', 'Sulawesi Utara', 'Bengkulu', 'Kalimantan Timur']\n"
          ]
        }
      ]
    },
    {
      "cell_type": "markdown",
      "source": [
        "## 🎧 **5. Method pada List**\n",
        "\n",
        "List merupakan sebuah class pada python yang mempunyai <i>built-in method</i> (method yang tersedia). Untuk menggunakan method adalah dengan menambahkan titik pada akhir variabel dengan tipe data list lalu panggil method yang ingin digunakan. Dibawah ini merupakan beberapa method pada list\n",
        "\n",
        "<p align=\"center\">\n",
        "<img src=\"https://miro.medium.com/v2/resize:fit:1100/format:webp/1*vusVuQXbsvAxux8b9SIUsg.png\" width=\"450\" height=\"555\" alt=\"alternatetext\">\n",
        "<p align=\"center\"><b>Gambar 2. Method Pada List</b></p></p><br>\n",
        "\n",
        "<i>docs : https://docs.python.org/3/tutorial/datastructures.html#more-on-lists</i>"
      ],
      "metadata": {
        "id": "uMBtoV-jjJaB"
      }
    },
    {
      "cell_type": "markdown",
      "source": [
        "### 👨‍💻 Task 5 - A\n",
        "\n",
        "Setelah ditinjau kembali, <b>Goodie Bag DQLab</b> saat ini masuk ke jajaran <i>best seller product</i> dari platform DQCommerce. Tambahkan produk tersebut kedalam <i>existing list</i> berikut!\n",
        "\n",
        "```\n",
        "produk_best_seller = ['Flash Disk DQLab 32GB', 'Buku planner DQLab', 'Gantungan Kunci DQlab', 'Kotak pensil DQLab']\n",
        "```\n",
        "\n"
      ],
      "metadata": {
        "id": "32epARSMjuiw"
      }
    },
    {
      "cell_type": "code",
      "source": [
        "# Inisialisasi list\n",
        "produk_best_seller = ['Flash Disk DQLab 32GB', 'Buku planner DQLab', 'Gantungan Kunci DQlab', 'Kotak pensil DQLab']\n",
        "\n",
        "# Tampilkan hasilnya\n",
        "print('Sebelum append', produk_best_seller)"
      ],
      "metadata": {
        "id": "q1nQl4b2jlKR",
        "colab": {
          "base_uri": "https://localhost:8080/"
        },
        "outputId": "f9f8c616-a5f3-47ce-810e-ee461bb7fa7c"
      },
      "execution_count": null,
      "outputs": [
        {
          "output_type": "stream",
          "name": "stdout",
          "text": [
            "Sebelum append ['Flash Disk DQLab 32GB', 'Buku planner DQLab', 'Gantungan Kunci DQlab', 'Kotak pensil DQLab']\n"
          ]
        }
      ]
    },
    {
      "cell_type": "code",
      "source": [
        "# Write your code below here & exec!\n",
        "produk_best_seller.append('Goodie Bag DQLab')\n",
        "\n",
        "# Tampilkan hasilnya\n",
        "print('Setelah append', produk_best_seller)"
      ],
      "metadata": {
        "colab": {
          "base_uri": "https://localhost:8080/"
        },
        "id": "loty_SeNuctT",
        "outputId": "6e881735-e6ee-4391-9bef-e1fa80d72019"
      },
      "execution_count": null,
      "outputs": [
        {
          "output_type": "stream",
          "name": "stdout",
          "text": [
            "Setelah append ['Flash Disk DQLab 32GB', 'Buku planner DQLab', 'Gantungan Kunci DQlab', 'Kotak pensil DQLab', 'Goodie Bag DQLab']\n"
          ]
        }
      ]
    },
    {
      "cell_type": "markdown",
      "source": [
        "### 👨‍💻 Task 5 - B\n",
        "\n",
        "Analisis *Recency, Frequency, Monetary* (RFM) merupakan proses analisis perilaku pelanggan. Dalam menentukan segmentasi pelanggan, digunakan model RFM berdasarkan tiga variabel yaitu recency terakhir melakukan transaksi, frequency dari transaksi, dan monetary dari jumlah transaksi setiap pelanggan.\n",
        "\n",
        "Data frekuensi transaksi (periode 2022) pelanggan DQTech disajikan sebagai berikut\n",
        "\n",
        "```\n",
        "trx_frequency = [34, 125, 11, 90, 45, 60, 81, 14, 2, 235]\n",
        "```\n",
        "\n",
        "Coba urutkan secara ascending (terkecil ke terbesar) daftar tersebut!\n"
      ],
      "metadata": {
        "id": "ptOIJ6wB0j6r"
      }
    },
    {
      "cell_type": "code",
      "source": [
        "# Inisialisasi list\n",
        "trx_frequency = [34, 125, 11, 90, 45, 60, 81, 14, 2, 235]\n",
        "\n",
        "# Tampilkan hasilnya\n",
        "print(trx_frequency)"
      ],
      "metadata": {
        "id": "HLc5ww3Z2RE2",
        "colab": {
          "base_uri": "https://localhost:8080/"
        },
        "outputId": "cfa9ef70-2671-424b-ad1f-c9f4d7bf49ab"
      },
      "execution_count": null,
      "outputs": [
        {
          "output_type": "stream",
          "name": "stdout",
          "text": [
            "[34, 125, 11, 90, 45, 60, 81, 14, 2, 235]\n"
          ]
        }
      ]
    },
    {
      "cell_type": "code",
      "source": [
        "# Write your code below here & exec!\n",
        "trx_frequency.sort()\n",
        "\n",
        "# Tampilkan hasilnya\n",
        "print(trx_frequency)\n",
        "\n",
        "#dari terbesar ke terkecil\n",
        "trx_frequency.reverse()\n",
        "print(trx_frequency)"
      ],
      "metadata": {
        "colab": {
          "base_uri": "https://localhost:8080/"
        },
        "id": "QFMQAouswNbG",
        "outputId": "9d5910b3-f0c9-45d4-be8a-f42d282bdf08"
      },
      "execution_count": null,
      "outputs": [
        {
          "output_type": "stream",
          "name": "stdout",
          "text": [
            "[2, 11, 14, 34, 45, 60, 81, 90, 125, 235]\n",
            "[235, 125, 90, 81, 60, 45, 34, 14, 11, 2]\n"
          ]
        }
      ]
    },
    {
      "cell_type": "code",
      "source": [
        "# Inisialisasi list\n",
        "acak = ['dqlab', '14', '2', '235', 'ACADEMY']\n",
        "\n",
        "# Tampilkan hasilnya\n",
        "print('Sebelum diurutkan', acak)\n",
        "\n",
        "acak.sort()\n",
        "\n",
        "# Tampilkan hasilnya\n",
        "print('Setelah diurutkan', acak)\n",
        "\n",
        "#bisa diurutkan karena sdh 1 tipe data yaitu string\n",
        "#tp kalau ada lebih dari 1 tipe data gak bisa diurutkan"
      ],
      "metadata": {
        "colab": {
          "base_uri": "https://localhost:8080/"
        },
        "id": "QDQIAUtCFPvP",
        "outputId": "37186462-7f81-485a-9917-bf3c43c73c1a"
      },
      "execution_count": null,
      "outputs": [
        {
          "output_type": "stream",
          "name": "stdout",
          "text": [
            "Sebelum diurutkan ['dqlab', '14', '2', '235', 'ACADEMY']\n",
            "Setelah diurutkan ['14', '2', '235', 'ACADEMY', 'dqlab']\n"
          ]
        }
      ]
    },
    {
      "cell_type": "markdown",
      "source": [
        "## ☢️ **6. Looping pada List**\n",
        "\n",
        "Tipe data list dapat dilakukan proses pencacahan dengan perulangan (for). Perulangan (dan proses lain) pada elemen-elemen list dapat digunakan pada berbagai hal seperti proses filter elemen pada list atau yang lain.\n",
        "\n",
        "```\n",
        "list_supply_brg = ['Rautan Pensil', 'Correction Tape', 'Buku Gambar']\n",
        "\n",
        "# Proses looping\n",
        "for barang in list_supply_brg:\n",
        "    print(f'Supply {barang}')\n",
        "```"
      ],
      "metadata": {
        "id": "Qt64Hqrl5nOX"
      }
    },
    {
      "cell_type": "markdown",
      "source": [
        "### 👨‍💻 Task 6 - A\n",
        "\n",
        "Pada list berikut\n",
        "\n",
        "```\n",
        "risk_indicator = ['Kehilangan Data', 'Kualitas Data Buruk', 'Kekurangan Data', 'Data tidak Akurat', 'Pelanggaran Privasi']\n",
        "```\n",
        "\n",
        "Tampilkan output seperti berikut agar lebih mudah dibaca\n",
        "\n",
        "```\n",
        "List Evaluasi Resiko :     \n",
        "  - Kehilangan Data\n",
        "  - Kualitas Data Buruk\n",
        "  - Kekurangan Data\n",
        "  - Data Tidak Akurat\n",
        "  - Pelanggaran Privasi\n",
        "```\n"
      ],
      "metadata": {
        "id": "Vi63oPDE47Xr"
      }
    },
    {
      "cell_type": "code",
      "source": [
        "risk_indicator = ['Kehilangan Data', 'Kualitas Data Buruk', 'Kekurangan Data', 'Data tidak Akurat', 'Pelanggaran Privasi']\n",
        "\n",
        "print('List Evaluasi Resiko : ')\n",
        "\n",
        "for indikator in risk_indicator:\n",
        "  print(f'  - {indikator}')"
      ],
      "metadata": {
        "id": "GIIc6r6c_e1d",
        "colab": {
          "base_uri": "https://localhost:8080/"
        },
        "outputId": "e37c4852-fe17-40f5-dadc-7417044cbfa2"
      },
      "execution_count": null,
      "outputs": [
        {
          "output_type": "stream",
          "name": "stdout",
          "text": [
            "List Evaluasi Resiko : \n",
            "  - Kehilangan Data,\n",
            "  - Kualitas Data Buruk\n",
            "  - Kekurangan Data\n",
            "  - Data tidak Akurat\n",
            "  - Pelanggaran Privasi\n"
          ]
        }
      ]
    },
    {
      "cell_type": "markdown",
      "source": [
        "### 👨‍💻 Task 6 - B\n",
        "\n",
        "List data monetary berikut\n",
        "\n",
        "```\n",
        "list_monetary_cust = [575000, 120000, 46500, 20000, 345000, 90000, 17500, 23300, 100000, 2300, 95000, 16700, 87650]\n",
        "```\n",
        "Tampilkan yang nilainya lebih dari sama dengan 100rb saja\n"
      ],
      "metadata": {
        "id": "9G763lQ1Ck-N"
      }
    },
    {
      "cell_type": "code",
      "source": [
        "# Write your code below here & exec!\n",
        "list_monetary_cust = [575000, 120000, 46500, 20000, 345000, 90000, 17500, 23300, 100000, 2300, 95000, 16700, 87650]\n",
        "\n",
        "print(list_monetary_cust)"
      ],
      "metadata": {
        "id": "ro8-KJP1Ddql",
        "colab": {
          "base_uri": "https://localhost:8080/"
        },
        "outputId": "48848762-438f-4b06-bd06-45f312f0062a"
      },
      "execution_count": null,
      "outputs": [
        {
          "output_type": "stream",
          "name": "stdout",
          "text": [
            "[575000, 120000, 46500, 20000, 345000, 90000, 17500, 23300, 100000, 2300, 95000, 16700, 87650]\n"
          ]
        }
      ]
    },
    {
      "cell_type": "code",
      "source": [
        "# Write your code below here & exec!\n",
        "for cust in list_monetary_cust:\n",
        "  if cust>=100000:\n",
        "    print(f'{cust}')"
      ],
      "metadata": {
        "colab": {
          "base_uri": "https://localhost:8080/"
        },
        "id": "n2PCFLI6RpHi",
        "outputId": "f050223b-a621-4138-c150-1a1232a84176"
      },
      "execution_count": null,
      "outputs": [
        {
          "output_type": "stream",
          "name": "stdout",
          "text": [
            "575000\n",
            "120000\n",
            "345000\n",
            "100000\n"
          ]
        }
      ]
    },
    {
      "cell_type": "markdown",
      "source": [
        "### 👨‍💻 Task 6 - C\n",
        "\n",
        "Pada list yang tertera pada cell dibawah ini, buat variabel list baru yang dinamai dengan `list_provinsi_kalimantan` lakukan proses <u><b>filter</b></u> dimana hanya provinsi Kalimantan saja yang boleh disimpan"
      ],
      "metadata": {
        "id": "DnjO7IKqBjtl"
      }
    },
    {
      "cell_type": "code",
      "source": [
        "list_provinsi_all = ['Kalimantan Utara', 'DKI Jakarta', 'Lampung', 'Kalimantan Timur', 'Bali', 'Kalimantan Selatan', 'Kalimantan Barat', 'Kalimantan Utara', 'Kalimantan Tengah']\n",
        "for provinsi in set(list_provinsi_all):\n",
        "  if 'Kalimantan' in provinsi:\n",
        "    list_provinsi_kalimantan = provinsi\n",
        "    print(f'{list_provinsi_kalimantan}')"
      ],
      "metadata": {
        "colab": {
          "base_uri": "https://localhost:8080/"
        },
        "id": "0-gEiH-jxXmQ",
        "outputId": "04bbe438-f2a3-42cd-d7c5-1c3200138364"
      },
      "execution_count": null,
      "outputs": [
        {
          "output_type": "stream",
          "name": "stdout",
          "text": [
            "Kalimantan Timur\n",
            "Kalimantan Barat\n",
            "Kalimantan Utara\n",
            "Kalimantan Tengah\n",
            "Kalimantan Selatan\n"
          ]
        }
      ]
    },
    {
      "cell_type": "code",
      "source": [
        "#jawaban fix\n",
        "list_provinsi_all = ['Kalimantan Utara', 'DKI Jakarta', 'Lampung', 'Kalimantan Timur', 'Bali', 'Kalimantan Selatan', 'Kalimantan Barat', 'Kalimantan Utara', 'Kalimantan Tengah']\n",
        "for list_provinsi_kalimantan in set(list_provinsi_all):\n",
        "  if 'Kalimantan' in list_provinsi_kalimantan:\n",
        "    print(f'{list_provinsi_kalimantan}')"
      ],
      "metadata": {
        "colab": {
          "base_uri": "https://localhost:8080/"
        },
        "id": "TczJhWzc0fLF",
        "outputId": "a030a314-6224-4492-9fcb-63e447c65634"
      },
      "execution_count": null,
      "outputs": [
        {
          "output_type": "stream",
          "name": "stdout",
          "text": [
            "Kalimantan Timur\n",
            "Kalimantan Barat\n",
            "Kalimantan Utara\n",
            "Kalimantan Tengah\n",
            "Kalimantan Selatan\n"
          ]
        }
      ]
    },
    {
      "cell_type": "markdown",
      "source": [
        "# 📚 **Dictionary**\n",
        "\n",
        "Dictionary adalah tipe data pada python yang berfungsi untuk menyimpan kumpulan data/nilai dengan pendekatan “key:value”.<br><br>\n",
        "\n",
        "<p align=\"center\">\n",
        "<img src=\"http://www.trytoprogram.com/images/python_dictionary.jpg\" width=\"400\" height=\"250\" alt=\"alternatetext\">\n",
        "<p align=\"center\"><b>Gambar 3. Dictionary</b></p></p><br>\n",
        "\n",
        "Sifat dictionary :\n",
        "<ol>\n",
        "  <li>Ditandai dengan kurung kurawa / keriting { } saat proses inisialisasinya dan formatnya mengikuti template <code>key : value</code></li>\n",
        "  <li>Elemen pada dictionary dapat diubah / dapat diupdate (<i>changeable</i>)</li>\n",
        "  <li>Dictionary tidak menerima elemen yang sama / duplikat pada key namun boleh menerima elemen yang sama pada value</li>\n",
        "</ol>\n",
        "\n",
        "\n",
        "*docs : https://docs.python.org/3/tutorial/datastructures.html#dictionaries*"
      ],
      "metadata": {
        "id": "60fRNdqqD0Nk"
      }
    },
    {
      "cell_type": "markdown",
      "source": [
        "##⚙️<b>7. Membuat Dictionary</b>\n",
        "\n",
        "<ul>\n",
        "  <li>Dictionary Kosong</li>\n",
        "\n",
        "  ```\n",
        "  empty_dict = {}\n",
        "  ```\n",
        "\n",
        "  <li>Simple Dictionary</li>\n",
        "\n",
        "  ```\n",
        "  cust_detail = {\n",
        "      'cust_code' : 'CUST2021081',\n",
        "      'cust_name' : 'Bang Messi',\n",
        "      'age' : 36,\n",
        "      'is_active' : True\n",
        "  }\n",
        "  ```\n",
        "\n",
        "  <li>Complex Dictionary</li>\n",
        "\n",
        "  ```\n",
        "  detail_trx = {\n",
        "      'trx_code' : 'TRX20230703',\n",
        "      'cust_code' : 'CUST2021081',\n",
        "      'product' : {\n",
        "          'product_name' : ['Cendol', 'Bika Ambon', 'Seblak'],\n",
        "          'price' : [50000, 75000, 12500],\n",
        "          'quantity' : [1, 2, 1]\n",
        "      },\n",
        "      'total_price' : 212500,\n",
        "      'disc' : 0.05,\n",
        "      'trx_date' : '2023-07-27 10:12:45'\n",
        "  }\n",
        "  ```\n",
        "\n",
        "</ul>"
      ],
      "metadata": {
        "id": "hhA_w8kAE9oM"
      }
    },
    {
      "cell_type": "markdown",
      "source": [
        "### 👨‍💻 Task 7\n",
        "\n",
        "Konversikan data berikut kedalam sebuah tipe data dictionary pada Python\n",
        "\n",
        "<table align=\"center\">\n",
        "  <tr>\n",
        "    <td>Nama Barang</td>\n",
        "    <td>Harga</td>\n",
        "  </tr>\n",
        "  <tr>\n",
        "    <td>Corkcicle</td>\n",
        "    <td>940000</td>\n",
        "  </tr>\n",
        "  <tr>\n",
        "    <td>Smiggle Drink Bottle</td>\n",
        "    <td>550000</td>\n",
        "  </tr>\n",
        "  <tr>\n",
        "    <td>Tupperware</td>\n",
        "    <td>57000</td>\n",
        "  </tr>\n",
        "  <tr>\n",
        "    <td>Botol Kecap Bekas</td>\n",
        "    <td>1000</td>\n",
        "  </tr>\n",
        "</table>"
      ],
      "metadata": {
        "id": "gobg5jDsHbDx"
      }
    },
    {
      "cell_type": "code",
      "source": [
        "# Write your code below here & exec!\n",
        "produk = produk = {\n",
        "    'Corkcicle': 940000,\n",
        "    'Smiggle': 550000,\n",
        "    'Tupperware': 57000,\n",
        "    'Botol Kecap Bekas': 1000\n",
        "}\n",
        "# Tampilkan hasilnya\n",
        "print(produk)"
      ],
      "metadata": {
        "id": "5rZpp45XGXAZ",
        "colab": {
          "base_uri": "https://localhost:8080/"
        },
        "outputId": "98597997-8210-4720-8778-6279b7ff7812"
      },
      "execution_count": null,
      "outputs": [
        {
          "output_type": "stream",
          "name": "stdout",
          "text": [
            "{'Corkcicle': 940000, 'Smiggle': 550000, 'Tupperware': 57000, 'Botol Kecap Bekas': 1000}\n"
          ]
        }
      ]
    },
    {
      "cell_type": "markdown",
      "source": [
        "##🛸<b>8. Method pada Dictionary</b>\n",
        "\n",
        "Sama halnya list, pada dictionary terdapat method yang dapat digunakan\n",
        "\n",
        "<p align=\"center\">\n",
        "<img src=\"https://miro.medium.com/v2/resize:fit:1400/format:webp/1*K1nYbwzrZrcqJm5txv2XSw.png\" width=\"540\" height=\"520\" alt=\"alternatetext\">\n",
        "<p align=\"center\"><b>Gambar 4. Method pada Dictionary</b></p></p><br>\n",
        "\n",
        "Note : *Untuk mengakses key pada dictionary dapat menggunakan method `dict.get(keys)`*"
      ],
      "metadata": {
        "id": "ubj_Y-axIwa3"
      }
    },
    {
      "cell_type": "markdown",
      "source": [
        "### 👨‍💻 Task 8 - A\n",
        "\n",
        "Tampilkan nama customer saja pada dictionary berikut\n",
        "\n",
        "```\n",
        "cust_detail = {\n",
        "    'cust_code' : 'CUST2021081',\n",
        "    'cust_name' : 'Bang Messi',\n",
        "    'age' : 36,\n",
        "    'is_active' : True\n",
        "}\n",
        "```\n",
        "\n"
      ],
      "metadata": {
        "id": "I3U6z3weKFxq"
      }
    },
    {
      "cell_type": "code",
      "source": [
        "# Write your code below here & exec!\n",
        "cust_detail = {\n",
        "    'cust_code' : 'CUST2021081',\n",
        "    'cust_name' : 'Bang Messi',\n",
        "    'age'       : 36,\n",
        "    'is_active' : True\n",
        "}\n",
        "\n",
        "# Tampilkan hasilnya\n",
        "print(cust_detail.keys())\n",
        "print(cust_detail.get('cust_code'))"
      ],
      "metadata": {
        "colab": {
          "base_uri": "https://localhost:8080/"
        },
        "id": "ABUvxDJdoVUK",
        "outputId": "1ccc0722-0f2c-4a3a-b457-d39ed957ecb3"
      },
      "execution_count": null,
      "outputs": [
        {
          "output_type": "stream",
          "name": "stdout",
          "text": [
            "dict_keys(['cust_code', 'cust_name', 'age', 'is_active'])\n",
            "CUST2021081\n"
          ]
        }
      ]
    },
    {
      "cell_type": "markdown",
      "source": [
        "### 👨‍💻 Task 8 - B\n",
        "\n",
        "Customer dengan kode berikut 'CUST2021081', saat ini telah berusia 40 tahun, sudah tidak lagi aktif berlangganan dengan alasan pindah ke kompetitor lain\n",
        "\n",
        "```\n",
        "cust_detail = {\n",
        "    'cust_code' : 'CUST2021081',\n",
        "    'cust_name' : 'Bang Messi',\n",
        "    'age' : 36,\n",
        "    'is_active' : True\n",
        "}\n",
        "```\n",
        "\n",
        "Lakukan proses update pada existing data tersebut! <br>\n",
        "(<i>Update usia & status is_active kemudian tambahkan reason sebagai kunci baru</i>)"
      ],
      "metadata": {
        "id": "8wcDC-SeMs3O"
      }
    },
    {
      "cell_type": "code",
      "source": [
        "cust_detail = {\n",
        "    'cust_code' : 'CUST2021081',\n",
        "    'cust_name' : 'Bang Messi',\n",
        "    'age' : 36,\n",
        "    'is_active' : True\n",
        "}\n",
        "\n",
        "print('Sebelum update', cust_detail)\n",
        "\n",
        "# Perbaikan\n",
        "cust_detail['age']=40\n",
        "cust_detail['is_active']=False\n",
        "\n",
        "# Tampilkan perbaikan\n",
        "print(f'Setelah update {cust_detail}')"
      ],
      "metadata": {
        "id": "Xynbms2iNRxY",
        "colab": {
          "base_uri": "https://localhost:8080/"
        },
        "outputId": "672a1ef4-f1e5-4f6c-e22c-0574eef8eca0"
      },
      "execution_count": null,
      "outputs": [
        {
          "output_type": "stream",
          "name": "stdout",
          "text": [
            "Sebelum update {'cust_code': 'CUST2021081', 'cust_name': 'Bang Messi', 'age': 36, 'is_active': True}\n",
            "Setelah update {'cust_code': 'CUST2021081', 'cust_name': 'Bang Messi', 'age': 40, 'is_active': False}\n"
          ]
        }
      ]
    },
    {
      "cell_type": "markdown",
      "source": [
        "##🎠<b>9. Looping Dictionary</b>\n",
        "\n",
        "Looping juga dapat dilakukan pada dictionary dengan menggunakan bantuan method `.items()`, eksekusi kode berikut :\n",
        "\n",
        "```\n",
        "for key, value in dict.items():\n",
        "    ...\n",
        "```\n",
        "\n",
        "Contoh :\n",
        "\n",
        "```\n",
        "# Inisialisasi variabel\n",
        "skill_needed = dict(\n",
        "    data_analyst = ['SQL', 'Business Knowledge', 'Descriptive Analysis', 'Diagnostics Analysis'],\n",
        "    data_engineer = ['Database Knowledge', 'Data Modelling', 'Programming Lang. (Python, Scala, etc)'],\n",
        "    data_scientist = ['Machine Learning', 'Business Knowledge', 'Predictive Analysis']\n",
        ")\n",
        "\n",
        "# Proses perulangan\n",
        "for key, value in skill_needed.items():\n",
        "    print(f'Pada kunci = {key} mempunyai nilai = {value}')\n",
        "```\n",
        "\n"
      ],
      "metadata": {
        "id": "rDtiij7zNob9"
      }
    },
    {
      "cell_type": "code",
      "source": [
        "skill_needed = dict(\n",
        "    data_analyst = ['SQL', 'Business Knowledge', 'Descriptive Analysis', 'Diagnostics Analysis'],\n",
        "    data_engineer = ['Database Knowledge', 'Data Modelling', 'Programming Lang. (Python, Scala, etc)'],\n",
        "    data_scientist = ['Machine Learning', 'Business Knowledge', 'Predictive Analysis']\n",
        ")\n",
        "\n",
        "# Proses perulangan\n",
        "for key, value in skill_needed.items():\n",
        "    print(f'Pada kunci = {key} mempunyai nilai = {value}')"
      ],
      "metadata": {
        "colab": {
          "base_uri": "https://localhost:8080/"
        },
        "id": "c7e5GxQlowSS",
        "outputId": "274c82f9-42fa-4452-a605-a41f3157b0a6"
      },
      "execution_count": null,
      "outputs": [
        {
          "output_type": "stream",
          "name": "stdout",
          "text": [
            "Pada kunci = data_analyst mempunyai nilai = ['SQL', 'Business Knowledge', 'Descriptive Analysis', 'Diagnostics Analysis']\n",
            "Pada kunci = data_engineer mempunyai nilai = ['Database Knowledge', 'Data Modelling', 'Programming Lang. (Python, Scala, etc)']\n",
            "Pada kunci = data_scientist mempunyai nilai = ['Machine Learning', 'Business Knowledge', 'Predictive Analysis']\n"
          ]
        }
      ]
    },
    {
      "cell_type": "markdown",
      "source": [
        "### 👨‍💻 Task 9\n",
        "\n",
        "Konversikan data berikut kedalam sebuah tipe data dictionary pada Python\n",
        "\n",
        "<table align=\"center\">\n",
        "  <tr>\n",
        "    <td>Nama Barang</td>\n",
        "    <td>Harga</td>\n",
        "  </tr>\n",
        "  <tr>\n",
        "    <td>Corkcicle</td>\n",
        "    <td>940000</td>\n",
        "  </tr>\n",
        "  <tr>\n",
        "    <td>Smiggle Drink Bottle</td>\n",
        "    <td>550000</td>\n",
        "  </tr>\n",
        "  <tr>\n",
        "    <td>Tupperware</td>\n",
        "    <td>57000</td>\n",
        "  </tr>\n",
        "  <tr>\n",
        "    <td>Botol Kecap Bekas</td>\n",
        "    <td>1000</td>\n",
        "  </tr>\n",
        "</table>\n",
        "\n",
        "Lalu tampilkan dengan format sebagai berikut <br>\n",
        "\n",
        "```\n",
        "Nama barang 'Corkcicle' dijual dengan harga Rp. 940.000\n",
        "Nama barang 'Smiggle Drink Bottle' dijual dengan harga Rp. 550.000\n",
        "Nama barang 'Tupperware' dijual dengan harga Rp. 57.000\n",
        "Nama barang 'Botol Kecap Bekas' dijual dengan harga Rp. 1.000\n",
        "```"
      ],
      "metadata": {
        "id": "TqnVxXaqPoL1"
      }
    },
    {
      "cell_type": "code",
      "source": [
        "# Write your code below here & exec!\n",
        "harga_barang = dict(\n",
        "    Corkcicle = [940000],\n",
        "    Smiggle_Drink_Bottle = [550000],\n",
        "    Tupperware = [57000],\n",
        "    Botol_Kecap_Bekas = [1000]\n",
        ")\n",
        "\n",
        "# Proses perulangan\n",
        "for nama, harga in harga_barang.items():\n",
        "    print(f'Nama barang \"{nama}\" dijual dengan harga Rp. {harga[0]:,}'\n",
        "    .replace('_',' ').replace(',','.').replace('[','').replace(']',''))"
      ],
      "metadata": {
        "id": "2dpsa5SRQJsQ",
        "colab": {
          "base_uri": "https://localhost:8080/"
        },
        "outputId": "9b982571-4f89-440e-a4f7-ff8e789364d8"
      },
      "execution_count": null,
      "outputs": [
        {
          "output_type": "stream",
          "name": "stdout",
          "text": [
            "Nama barang \"Corkcicle\" dijual dengan harga Rp. 940.000\n",
            "Nama barang \"Smiggle Drink Bottle\" dijual dengan harga Rp. 550.000\n",
            "Nama barang \"Tupperware\" dijual dengan harga Rp. 57.000\n",
            "Nama barang \"Botol Kecap Bekas\" dijual dengan harga Rp. 1.000\n"
          ]
        }
      ]
    },
    {
      "cell_type": "markdown",
      "source": [
        "# 📚 **More Iterables : Tuple dan Set**\n",
        "\n",
        "Selain list dan dictionary ada dua buah tipe data lain yang disebut dengan tuple dan set\n",
        "\n",
        "<h2>Tuple</h2>\n",
        "Tuple mirip dengan list namun ditandai dengan tanda kurung bulat ( ) dan elemen pada tuple tidak dapat diupdate (mutable). Contoh tuple\n",
        "\n",
        "```\n",
        "contoh_tuple = ('TRX20230701', 'TRX20230702', 'TRX20230703', 'TRX20230704')\n",
        "```\n",
        "\n",
        "<h2>Set</h2>\n",
        "Sedangkan set seperti namanya, set (himpunan) merupakan suatu tipe data yang memenuhi sifat himpunan, elemen pada set tidak mengenal urutan (tidak berlaku index), dan tidak memuat elemen duplikat\n",
        "\n",
        "```\n",
        "contoh_set = {'TRX20230701', 'TRX20230702', 'TRX20230703', 'TRX20230704'}\n",
        "```\n",
        "\n",
        "<h2>Perbedaan Tipe Data</h2>\n",
        "\n",
        "Secara umum perbedaan diantara List, Tuple, Set dan Dictionary disajikan pada gambar berikut\n",
        "\n",
        "<p align=\"center\">\n",
        "<img src=\"https://miro.medium.com/v2/resize:fit:1100/format:webp/1*DxD-6bZrRg7qSa7hg2bbtA.png\" width=\"475\" height=\"180\" alt=\"alternatetext\">\n",
        "<p align=\"center\"><b>Gambar 5. Perbedaan List, Tuple, Set dan Dictionary</b></p></p><br>\n",
        "\n",
        "<h2>Method</h2>\n",
        "\n",
        "Untuk jenis method pada masing - masing tipe data silahkan akses link <a href=\"https://hritikaa9.medium.com/python-collections-list-tuple-dictionaries-sets-4d3f046d285c\">berikut</a>\n",
        "\n",
        "---\n",
        "\n",
        "\n"
      ],
      "metadata": {
        "id": "2iw7GRKnQbaO"
      }
    }
  ]
}
